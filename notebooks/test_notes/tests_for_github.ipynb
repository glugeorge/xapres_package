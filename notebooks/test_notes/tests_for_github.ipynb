{
 "cells": [
  {
   "cell_type": "markdown",
   "id": "66083e72-16ca-4fc0-aebc-2e0ec36ebbe6",
   "metadata": {},
   "source": [
    "# Tests to be implemented in github actions. "
   ]
  },
  {
   "cell_type": "code",
   "execution_count": 1,
   "id": "abe65d4f-0fc5-4774-b034-b9c81fb5b876",
   "metadata": {},
   "outputs": [
    {
     "name": "stdout",
     "output_type": "stream",
     "text": [
      "we are loading this verison!\n"
     ]
    }
   ],
   "source": [
    "import sys\n",
    "sys.path.append(\"../../xapres_package/\")\n",
    "import ApRESDefs\n",
    "import numpy\n"
   ]
  },
  {
   "cell_type": "markdown",
   "id": "d6744fd5-b286-4f08-b14b-165786bab26d",
   "metadata": {},
   "source": [
    "## Test of file name/number selection in xapres.load_all"
   ]
  },
  {
   "cell_type": "code",
   "execution_count": 7,
   "id": "838b9e9b-6681-4b89-a375-c00bd496dc82",
   "metadata": {},
   "outputs": [],
   "source": [
    "# test that we can select and load the same file using two different methods: 1) selecting the file number, \n",
    "# and 2) using the filename that we get from 1) to load the same file again.\n",
    "def test_file_selection():\n",
    "    directory='gs://ldeo-glaciology/GL_apres_2022/A101'\n",
    "    xa1 = ApRESDefs.xapres(max_range=1400)\n",
    "    xa1.load_all(directory, \n",
    "                remote_load = True,\n",
    "                file_numbers_to_process=[0,1])\n",
    "\n",
    "    xa2 = ApRESDefs.xapres(max_range=1400)\n",
    "    xa2.load_all(directory, \n",
    "                remote_load = True,\n",
    "                file_names_to_process = xa1.dat_filenames_to_process)\n",
    "\n",
    "    assert xa1.data.identical(xa2.data)"
   ]
  },
  {
   "cell_type": "code",
   "execution_count": 8,
   "id": "3f8d5d35-7eb6-48ca-ad4c-5cee64fe7e96",
   "metadata": {},
   "outputs": [],
   "source": [
    "test_file_selection()"
   ]
  },
  {
   "cell_type": "markdown",
   "id": "7b3900b4-014b-4247-846c-9e9aa40be34c",
   "metadata": {},
   "source": [
    "## Test the loading of a single dat file from the google bucket.\n"
   ]
  },
  {
   "cell_type": "code",
   "execution_count": 24,
   "id": "7a583911",
   "metadata": {},
   "outputs": [],
   "source": [
    "#import pytest\n",
    "#from xapres_package import ApRESDefs\n",
    "\n",
    "def test_dat_file_loading():\n",
    "    directory='gs://ldeo-glaciology/GL_apres_2022/A101'\n",
    "    xa1 = ApRESDefs.xapres(max_range=1400)\n",
    "    xa1.load_all(directory, \n",
    "                remote_load = True,\n",
    "                file_numbers_to_process=[0])\n",
    "\n",
    "    assert numpy.isclose(xa1.data.profile.mean().values.real,8.093929591292018e-07)   \n",
    "    "
   ]
  },
  {
   "cell_type": "code",
   "execution_count": 25,
   "id": "8831b74b",
   "metadata": {},
   "outputs": [],
   "source": [
    "test_dat_file_loading()"
   ]
  },
  {
   "cell_type": "markdown",
   "id": "395cbf35-cb24-4a15-ab5b-0082cedefc3d",
   "metadata": {},
   "source": [
    "## Test the file search code\n",
    "Make sure that the 'dat' is not case sensitive and that the search suffix option works as intended"
   ]
  },
  {
   "cell_type": "code",
   "execution_count": 2,
   "id": "03eb4eee-ed0c-497c-9b4e-d2b287506139",
   "metadata": {},
   "outputs": [],
   "source": [
    "def test_file_search():\n",
    "    directory = \"../../\"\n",
    "    xa = ApRESDefs.xapres()\n",
    "    data_directory = '../../data'\n",
    "    \n",
    "    higher_level_list_of_dats = xa.list_files(data_directory + \"/sample\")\n",
    "    # this checks that the list of files is not empty\n",
    "    assert higher_level_list_of_dats  \n",
    "\n",
    "    lower_level_list_of_dats = xa.list_files(data_directory + \"/sample/polarmetric\")\n",
    "    # test that all the files found in a lower level directory were also found when searching in a higher level directory\n",
    "    assert all(item in higher_level_list_of_dats for item in lower_level_list_of_dats)\n",
    "\n",
    "    # test that the case of the extension (DAT vs dat) doesnt matter\n",
    "    assert len(xa.list_files(data_directory + \"/sample/different_case_examples\")) == 2\n",
    "\n",
    "    # test the search_suffix option is working\n",
    "    assert len(xa.list_files(data_directory + \"/sample/polarmetric\", search_suffix='HH')) == 1"
   ]
  },
  {
   "cell_type": "code",
   "execution_count": 4,
   "id": "9eece7a5-5f4e-478a-9ccf-693a2699aceb",
   "metadata": {},
   "outputs": [],
   "source": [
    "test_file_search()"
   ]
  }
 ],
 "metadata": {
  "kernelspec": {
   "display_name": "Python 3 (ipykernel)",
   "language": "python",
   "name": "python3"
  },
  "language_info": {
   "codemirror_mode": {
    "name": "ipython",
    "version": 3
   },
   "file_extension": ".py",
   "mimetype": "text/x-python",
   "name": "python",
   "nbconvert_exporter": "python",
   "pygments_lexer": "ipython3",
   "version": "3.11.3"
  },
  "vscode": {
   "interpreter": {
    "hash": "f6e3e4fdd3e8b5cf0803f6688fb4cf910bea2d93a4911237a73f72af70e10228"
   }
  }
 },
 "nbformat": 4,
 "nbformat_minor": 5
}
